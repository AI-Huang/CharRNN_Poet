{
 "cells": [
  {
   "cell_type": "code",
   "execution_count": 21,
   "metadata": {},
   "outputs": [],
   "source": [
    "#!/usr/bin/env python3\n",
    "# -*- coding: utf-8 -*-\n",
    "# @Date    : Mar-10-22 23:45\n",
    "# @Author  : Kelley Kan HUANG (kan.huang@connect.ust.hk)\n",
    "\n",
    "import torch\n",
    "from data import get_data\n",
    "from config import Config\n",
    "opt = Config()\n",
    "opt.device = torch.device('cuda') if opt.use_gpu else torch.device('cpu')\n",
    "device = opt.device\n"
   ]
  },
  {
   "cell_type": "code",
   "execution_count": 22,
   "metadata": {},
   "outputs": [],
   "source": [
    "data, word2ix, ix2word = get_data(opt)\n"
   ]
  },
  {
   "cell_type": "code",
   "execution_count": 24,
   "metadata": {},
   "outputs": [
    {
     "data": {
      "text/plain": [
       "(57580, 125)"
      ]
     },
     "execution_count": 24,
     "metadata": {},
     "output_type": "execute_result"
    }
   ],
   "source": [
    "data.shape"
   ]
  },
  {
   "cell_type": "markdown",
   "metadata": {},
   "source": [
    "## First poetry"
   ]
  },
  {
   "cell_type": "code",
   "execution_count": 25,
   "metadata": {},
   "outputs": [
    {
     "name": "stdout",
     "output_type": "stream",
     "text": [
      "[8292 8292 8292 8292 8292 8292 8292 8292 8292 8292 8292 8292 8292 8292\n",
      " 8292 8292 8292 8292 8292 8292 8292 8292 8292 8292 8292 8292 8292 8292\n",
      " 8292 8292 8292 8292 8292 8292 8292 8292 8292 8292 8292 8292 8292 8292\n",
      " 8292 8292 8292 8292 8292 8292 8292 8292 8292 8292 8292 8292 8292 8292\n",
      " 8292 8292 8292 8292 8292 8292 8292 8292 8292 8292 8292 8292 8292 8292\n",
      " 8292 8292 8292 8292 8292 8291 6731 4770 1787 8118 7577 7066 4817  648\n",
      " 7121 1542 6483 7435 7686 2889 1671 5862 1949 7066 2596 4785 3629 1379\n",
      " 2703 7435 6064 6041 4666 4038 4881 7066 4747 1534   70 3788 3823 7435\n",
      " 4907 5567  201 2834 1519 7066  782  782 2063 2031  846 7435 8290]\n"
     ]
    }
   ],
   "source": [
    "data_ = data[0, :]\n",
    "print(data_)\n"
   ]
  },
  {
   "cell_type": "code",
   "execution_count": 27,
   "metadata": {},
   "outputs": [
    {
     "name": "stdout",
     "output_type": "stream",
     "text": [
      "['</s>', '</s>', '</s>', '</s>', '</s>', '</s>', '</s>', '</s>', '</s>', '</s>', '</s>', '</s>', '</s>', '</s>', '</s>', '</s>', '</s>', '</s>', '</s>', '</s>', '</s>', '</s>', '</s>', '</s>', '</s>', '</s>', '</s>', '</s>', '</s>', '</s>', '</s>', '</s>', '</s>', '</s>', '</s>', '</s>', '</s>', '</s>', '</s>', '</s>', '</s>', '</s>', '</s>', '</s>', '</s>', '</s>', '</s>', '</s>', '</s>', '</s>', '</s>', '</s>', '</s>', '</s>', '</s>', '</s>', '</s>', '</s>', '</s>', '</s>', '</s>', '</s>', '</s>', '</s>', '</s>', '</s>', '</s>', '</s>', '</s>', '</s>', '</s>', '</s>', '</s>', '</s>', '</s>', '<START>', '度', '门', '能', '不', '访', '，', '冒', '雪', '屡', '西', '东', '。', '已', '想', '人', '如', '玉', '，', '遥', '怜', '马', '似', '骢', '。', '乍', '迷', '金', '谷', '路', '，', '稍', '变', '上', '阳', '宫', '。', '还', '比', '相', '思', '意', '，', '纷', '纷', '正', '满', '空', '。', '<EOP>']\n"
     ]
    }
   ],
   "source": [
    "poetry = [ix2word[_word] for _word in data_.tolist()]\n",
    "print(poetry)"
   ]
  },
  {
   "cell_type": "markdown",
   "metadata": {},
   "source": [
    "> 度门能不访，冒雪屡西东。已想人如玉，遥怜马似骢。乍迷金谷路，稍变上阳宫。还比相思意，纷纷正满空。\n",
    ">\n",
    "\n",
    "> ——唐 韦应物 **《雪中闻李儋过门不访，聊以寄赠》**\n",
    ">\n"
   ]
  },
  {
   "cell_type": "markdown",
   "metadata": {},
   "source": []
  }
 ],
 "metadata": {
  "interpreter": {
   "hash": "574e06845ede2e150b1a6f58b916c901f9ecf5923de2aef7f94ec4a671d6e766"
  },
  "kernelspec": {
   "display_name": "Python 3.7.7 ('torch')",
   "language": "python",
   "name": "python3"
  },
  "language_info": {
   "codemirror_mode": {
    "name": "ipython",
    "version": 3
   },
   "file_extension": ".py",
   "mimetype": "text/x-python",
   "name": "python",
   "nbconvert_exporter": "python",
   "pygments_lexer": "ipython3",
   "version": "3.7.7"
  },
  "orig_nbformat": 4
 },
 "nbformat": 4,
 "nbformat_minor": 2
}
